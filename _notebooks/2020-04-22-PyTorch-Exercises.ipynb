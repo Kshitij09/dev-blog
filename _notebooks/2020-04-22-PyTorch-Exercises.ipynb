{
 "cells": [
  {
   "cell_type": "markdown",
   "metadata": {},
   "source": [
    "# PyTorch Exercises\n",
    "\n",
    "> It's collection of exercises to hone your numerical computing skills. The goal of this collection is to offer quick reference for several torch operations.\n",
    "\n",
    "- toc:true\n",
    "- badges:true\n",
    "- branch: master\n",
    "- comments:true\n",
    "- author: Kshitij Patil\n",
    "- categories: [pytorch]\n",
    "- image: images/pytorch-logo.png"
   ]
  },
  {
   "cell_type": "markdown",
   "metadata": {},
   "source": [
    "Inspired by [100-numpy-exercises](https://github.com/rougier/numpy-100/)"
   ]
  },
  {
   "cell_type": "markdown",
   "metadata": {},
   "source": [
    "#### 1. Import `PyTorch` and print version (★☆☆)"
   ]
  },
  {
   "cell_type": "code",
   "execution_count": 2,
   "metadata": {},
   "outputs": [
    {
     "data": {
      "text/plain": [
       "'1.4.0'"
      ]
     },
     "execution_count": 2,
     "metadata": {},
     "output_type": "execute_result"
    }
   ],
   "source": [
    "#collapse\n",
    "import torch\n",
    "\n",
    "torch.__version__"
   ]
  },
  {
   "cell_type": "markdown",
   "metadata": {},
   "source": [
    "#### 2. Create a null vector of size 10 (★☆☆)"
   ]
  },
  {
   "cell_type": "code",
   "execution_count": 3,
   "metadata": {},
   "outputs": [
    {
     "data": {
      "text/plain": [
       "tensor([0., 0., 0., 0., 0., 0., 0., 0., 0., 0.])"
      ]
     },
     "execution_count": 3,
     "metadata": {},
     "output_type": "execute_result"
    }
   ],
   "source": [
    "#collapse\n",
    "torch.zeros(10)"
   ]
  },
  {
   "cell_type": "markdown",
   "metadata": {},
   "source": [
    "#### 3. Create a vector with values ranging from 10 to 49 (★☆☆)"
   ]
  },
  {
   "cell_type": "code",
   "execution_count": 4,
   "metadata": {},
   "outputs": [
    {
     "data": {
      "text/plain": [
       "tensor([10, 11, 12, 13, 14, 15, 16, 17, 18, 19, 20, 21, 22, 23, 24, 25, 26, 27,\n",
       "        28, 29, 30, 31, 32, 33, 34, 35, 36, 37, 38, 39, 40, 41, 42, 43, 44, 45,\n",
       "        46, 47, 48, 49])"
      ]
     },
     "execution_count": 4,
     "metadata": {},
     "output_type": "execute_result"
    }
   ],
   "source": [
    "#collapse\n",
    "torch.arange(10,50)"
   ]
  },
  {
   "cell_type": "markdown",
   "metadata": {},
   "source": [
    "#### 4. Reverse a vector & tensor (★☆☆)"
   ]
  },
  {
   "cell_type": "code",
   "execution_count": 9,
   "metadata": {},
   "outputs": [
    {
     "name": "stdout",
     "output_type": "stream",
     "text": [
      "Vector\n",
      "Original:  tensor([0, 1, 2, 3, 4, 5, 6, 7, 8, 9])\n",
      "Reversed:  tensor([9, 8, 7, 6, 5, 4, 3, 2, 1, 0])\n",
      "Tensor\n",
      "Original: \n",
      " tensor([[0, 1],\n",
      "        [2, 3],\n",
      "        [4, 5],\n",
      "        [6, 7],\n",
      "        [8, 9]])\n",
      "Reversed(rows): \n",
      " tensor([[8, 9],\n",
      "        [6, 7],\n",
      "        [4, 5],\n",
      "        [2, 3],\n",
      "        [0, 1]])\n",
      "Reversed(cols): \n",
      " tensor([[1, 0],\n",
      "        [3, 2],\n",
      "        [5, 4],\n",
      "        [7, 6],\n",
      "        [9, 8]])\n"
     ]
    }
   ],
   "source": [
    "#collapse \n",
    "#hide_output\n",
    "\n",
    "print(\"Vector\")\n",
    "x = torch.arange(10)\n",
    "print(\"Original: \",x)\n",
    "print(\"Reversed: \", x.flip(0))\n",
    "\n",
    "print(\"Tensor\")\n",
    "x = x.view(5,2)\n",
    "print(\"Original: \\n\",x)\n",
    "print(\"Reversed(rows): \\n\", x.flip(0))\n",
    "print(\"Reversed(cols): \\n\", x.flip(1))"
   ]
  },
  {
   "cell_type": "markdown",
   "metadata": {},
   "source": [
    "#### 5. Create a 3x3 matrix with values ranging from 0 to 8 (★☆☆)"
   ]
  },
  {
   "cell_type": "code",
   "execution_count": 10,
   "metadata": {},
   "outputs": [
    {
     "data": {
      "text/plain": [
       "tensor([[0, 1, 2],\n",
       "        [3, 4, 5],\n",
       "        [6, 7, 8]])"
      ]
     },
     "execution_count": 10,
     "metadata": {},
     "output_type": "execute_result"
    }
   ],
   "source": [
    "#collapse\n",
    "torch.arange(9).view(3,3)"
   ]
  },
  {
   "cell_type": "markdown",
   "metadata": {},
   "source": [
    "#### 6. Create a 3x3 Identity Matrix (★☆☆)"
   ]
  },
  {
   "cell_type": "code",
   "execution_count": 11,
   "metadata": {},
   "outputs": [
    {
     "data": {
      "text/plain": [
       "tensor([[1., 0., 0.],\n",
       "        [0., 1., 0.],\n",
       "        [0., 0., 1.]])"
      ]
     },
     "execution_count": 11,
     "metadata": {},
     "output_type": "execute_result"
    }
   ],
   "source": [
    "#collapse\n",
    "torch.eye(3)"
   ]
  },
  {
   "cell_type": "markdown",
   "metadata": {},
   "source": [
    "#### 7. Create a 3x3x3 matrix with random values (★☆☆)\n",
    "(output hidden to avoid verbosity)"
   ]
  },
  {
   "cell_type": "code",
   "execution_count": 12,
   "metadata": {},
   "outputs": [
    {
     "name": "stdout",
     "output_type": "stream",
     "text": [
      "tensor([[0.9199, 0.3884, 0.2975],\n",
      "        [0.8924, 0.7694, 0.6850],\n",
      "        [0.4952, 0.5713, 0.8097]])\n",
      "tensor([[-2.1540, -0.4610,  0.3117],\n",
      "        [-1.0630, -0.5528, -0.1765],\n",
      "        [ 0.4584,  0.5330,  1.0833]])\n",
      "tensor([[9, 3, 4],\n",
      "        [9, 7, 4],\n",
      "        [7, 1, 2]])\n",
      "tensor([[8, 3, 7],\n",
      "        [0, 4, 1],\n",
      "        [6, 2, 5]])\n"
     ]
    }
   ],
   "source": [
    "#collapse\n",
    "#hide_output \n",
    "\n",
    "# Random Uniform\n",
    "print(torch.rand(3,3))\n",
    "# Random Normal\n",
    "print(torch.randn(3,3))\n",
    "# Random int (low to high)\n",
    "print(torch.randint(1,10,(3,3)))\n",
    "# Random Permutations of given range\n",
    "print(torch.randperm(9).view(3,3))"
   ]
  },
  {
   "cell_type": "markdown",
   "metadata": {},
   "source": [
    "#### 8. Create a random vector of size 20 and find following stats: (★☆☆)\n",
    "- min,max, sum\n",
    "- mean, variance, standard deviation"
   ]
  },
  {
   "cell_type": "code",
   "execution_count": 8,
   "metadata": {},
   "outputs": [
    {
     "name": "stdout",
     "output_type": "stream",
     "text": [
      "tensor([18., 15., 18.,  4., 18., 16., 17.,  2., 10., 16., 13.,  1., 13.,  8.,\n",
      "        15., 10., 16., 17., 18.,  9.])\n"
     ]
    },
    {
     "data": {
      "text/plain": [
       "(tensor(1.),\n",
       " tensor(18.),\n",
       " tensor(254.),\n",
       " tensor(12.7000),\n",
       " tensor(5.4782),\n",
       " tensor(30.0105))"
      ]
     },
     "execution_count": 8,
     "metadata": {},
     "output_type": "execute_result"
    }
   ],
   "source": [
    "#collapse\n",
    "x = torch.randint(20,(20,)).float()\n",
    "print(x)\n",
    "x.min() , x.max(), x.sum(), x.mean(), x.std(), x.var()"
   ]
  },
  {
   "cell_type": "markdown",
   "metadata": {},
   "source": [
    "#### 9. Create a 2d array with 1 on the border and 0 inside (★☆☆)"
   ]
  },
  {
   "cell_type": "code",
   "execution_count": 9,
   "metadata": {},
   "outputs": [
    {
     "data": {
      "text/plain": [
       "tensor([[1., 1., 1., 1., 1.],\n",
       "        [1., 0., 0., 0., 1.],\n",
       "        [1., 0., 0., 0., 1.],\n",
       "        [1., 0., 0., 0., 1.],\n",
       "        [1., 1., 1., 1., 1.]])"
      ]
     },
     "execution_count": 9,
     "metadata": {},
     "output_type": "execute_result"
    }
   ],
   "source": [
    "#collapse\n",
    "x = torch.ones(5,5)\n",
    "x[1:-1,1:-1] = 0\n",
    "x"
   ]
  },
  {
   "cell_type": "markdown",
   "metadata": {},
   "source": [
    "#### 10. How to add a border (filled with 0's) around an existing array? (★☆☆)"
   ]
  },
  {
   "cell_type": "code",
   "execution_count": 11,
   "metadata": {},
   "outputs": [
    {
     "data": {
      "text/plain": [
       "tensor([[ 0.0000,  0.0000,  0.0000,  0.0000,  0.0000],\n",
       "        [ 0.0000,  0.5841,  0.2092, -1.5766,  0.0000],\n",
       "        [ 0.0000, -0.5721, -0.9200, -0.7613,  0.0000],\n",
       "        [ 0.0000, -0.0597, -1.8524,  0.1481,  0.0000],\n",
       "        [ 0.0000,  0.0000,  0.0000,  0.0000,  0.0000]])"
      ]
     },
     "execution_count": 11,
     "metadata": {},
     "output_type": "execute_result"
    }
   ],
   "source": [
    "#collapse\n",
    "import torch.nn.functional as F\n",
    "x = torch.randn(3,3)\n",
    "F.pad(x,(1,1,1,1),'constant',0)"
   ]
  },
  {
   "cell_type": "code",
   "execution_count": null,
   "metadata": {},
   "outputs": [],
   "source": []
  }
 ],
 "metadata": {
  "kernelspec": {
   "display_name": "Python 3.7.6 64-bit ('fastai2': conda)",
   "language": "python",
   "name": "python37664bitfastai2condaf3e9781124be45a78083b472977e8c5c"
  },
  "language_info": {
   "codemirror_mode": {
    "name": "ipython",
    "version": 3
   },
   "file_extension": ".py",
   "mimetype": "text/x-python",
   "name": "python",
   "nbconvert_exporter": "python",
   "pygments_lexer": "ipython3",
   "version": "3.7.7"
  },
  "latex_envs": {
   "LaTeX_envs_menu_present": true,
   "autoclose": true,
   "autocomplete": true,
   "bibliofile": "biblio.bib",
   "cite_by": "apalike",
   "current_citInitial": 1,
   "eqLabelWithNumbers": true,
   "eqNumInitial": 1,
   "hotkeys": {
    "equation": "Ctrl-E",
    "itemize": "Ctrl-I"
   },
   "labels_anchors": false,
   "latex_user_defs": false,
   "report_style_numbering": false,
   "user_envs_cfg": false
  },
  "toc": {
   "base_numbering": 1,
   "nav_menu": {},
   "number_sections": true,
   "sideBar": true,
   "skip_h1_title": false,
   "title_cell": "Table of Contents",
   "title_sidebar": "Contents",
   "toc_cell": false,
   "toc_position": {},
   "toc_section_display": true,
   "toc_window_display": false
  }
 },
 "nbformat": 4,
 "nbformat_minor": 4
}
